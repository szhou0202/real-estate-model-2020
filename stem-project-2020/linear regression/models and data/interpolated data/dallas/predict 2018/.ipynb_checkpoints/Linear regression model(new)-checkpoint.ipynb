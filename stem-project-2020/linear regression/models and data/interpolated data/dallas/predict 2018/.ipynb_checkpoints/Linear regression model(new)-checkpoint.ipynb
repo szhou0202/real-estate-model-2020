{
 "cells": [
  {
   "cell_type": "code",
   "execution_count": 1,
   "metadata": {},
   "outputs": [],
   "source": [
    "import numpy as np\n",
    "import matplotlib.pyplot as plt\n",
    "import pandas as pd\n",
    "from sklearn.linear_model import LinearRegression"
   ]
  },
  {
   "cell_type": "code",
   "execution_count": 2,
   "metadata": {},
   "outputs": [
    {
     "data": {
      "text/html": [
       "<div>\n",
       "<style scoped>\n",
       "    .dataframe tbody tr th:only-of-type {\n",
       "        vertical-align: middle;\n",
       "    }\n",
       "\n",
       "    .dataframe tbody tr th {\n",
       "        vertical-align: top;\n",
       "    }\n",
       "\n",
       "    .dataframe thead th {\n",
       "        text-align: right;\n",
       "    }\n",
       "</style>\n",
       "<table border=\"1\" class=\"dataframe\">\n",
       "  <thead>\n",
       "    <tr style=\"text-align: right;\">\n",
       "      <th></th>\n",
       "      <th>Date</th>\n",
       "      <th>House_Price_Index(S&amp;P/Case-Shiller)</th>\n",
       "      <th>Mortgage_Rate (30 yers)</th>\n",
       "      <th>Personal_Income</th>\n",
       "      <th>Resident_Population</th>\n",
       "      <th>Unemployment_Rate</th>\n",
       "      <th>GDP</th>\n",
       "      <th>Crime_Rate</th>\n",
       "      <th>Percent_With_Mortgage_Debt</th>\n",
       "      <th>Median_Debt</th>\n",
       "      <th>Percent_With_Severely_Delinquent_Debt</th>\n",
       "      <th>New_Structures</th>\n",
       "      <th>Economic_Conditions_Index</th>\n",
       "      <th>CPI all items less shelter</th>\n",
       "    </tr>\n",
       "  </thead>\n",
       "  <tbody>\n",
       "    <tr>\n",
       "      <th>0</th>\n",
       "      <td>3/1/2005</td>\n",
       "      <td>117.37315</td>\n",
       "      <td>5.93</td>\n",
       "      <td>37170.0</td>\n",
       "      <td>5816.4070</td>\n",
       "      <td>5.3</td>\n",
       "      <td>284456.5080</td>\n",
       "      <td>1309.5483</td>\n",
       "      <td>43.20%</td>\n",
       "      <td>133706.0000</td>\n",
       "      <td>2.30%</td>\n",
       "      <td>4281.0</td>\n",
       "      <td>4.19</td>\n",
       "      <td>188.90</td>\n",
       "    </tr>\n",
       "    <tr>\n",
       "      <th>1</th>\n",
       "      <td>4/1/2005</td>\n",
       "      <td>118.36502</td>\n",
       "      <td>5.86</td>\n",
       "      <td>37443.3</td>\n",
       "      <td>5834.7074</td>\n",
       "      <td>5.1</td>\n",
       "      <td>286767.0694</td>\n",
       "      <td>1303.3853</td>\n",
       "      <td>43.27%</td>\n",
       "      <td>133866.0000</td>\n",
       "      <td>2.30%</td>\n",
       "      <td>5548.0</td>\n",
       "      <td>4.69</td>\n",
       "      <td>189.67</td>\n",
       "    </tr>\n",
       "    <tr>\n",
       "      <th>2</th>\n",
       "      <td>5/1/2005</td>\n",
       "      <td>119.47166</td>\n",
       "      <td>5.72</td>\n",
       "      <td>37716.6</td>\n",
       "      <td>5853.0078</td>\n",
       "      <td>5.1</td>\n",
       "      <td>289077.6308</td>\n",
       "      <td>1297.2223</td>\n",
       "      <td>43.33%</td>\n",
       "      <td>134026.0000</td>\n",
       "      <td>2.30%</td>\n",
       "      <td>4878.0</td>\n",
       "      <td>4.58</td>\n",
       "      <td>190.44</td>\n",
       "    </tr>\n",
       "    <tr>\n",
       "      <th>3</th>\n",
       "      <td>6/1/2005</td>\n",
       "      <td>120.02775</td>\n",
       "      <td>5.58</td>\n",
       "      <td>37989.9</td>\n",
       "      <td>5871.3082</td>\n",
       "      <td>5.4</td>\n",
       "      <td>291388.1922</td>\n",
       "      <td>1291.0593</td>\n",
       "      <td>43.40%</td>\n",
       "      <td>134186.0000</td>\n",
       "      <td>2.30%</td>\n",
       "      <td>5304.0</td>\n",
       "      <td>4.83</td>\n",
       "      <td>191.21</td>\n",
       "    </tr>\n",
       "    <tr>\n",
       "      <th>4</th>\n",
       "      <td>7/1/2005</td>\n",
       "      <td>120.82903</td>\n",
       "      <td>5.70</td>\n",
       "      <td>38263.2</td>\n",
       "      <td>5889.6086</td>\n",
       "      <td>5.4</td>\n",
       "      <td>293698.7536</td>\n",
       "      <td>1284.8963</td>\n",
       "      <td>43.40%</td>\n",
       "      <td>134134.6667</td>\n",
       "      <td>2.30%</td>\n",
       "      <td>5140.0</td>\n",
       "      <td>5.06</td>\n",
       "      <td>191.98</td>\n",
       "    </tr>\n",
       "    <tr>\n",
       "      <th>5</th>\n",
       "      <td>8/1/2005</td>\n",
       "      <td>121.15007</td>\n",
       "      <td>5.82</td>\n",
       "      <td>38536.5</td>\n",
       "      <td>5907.9090</td>\n",
       "      <td>5.2</td>\n",
       "      <td>296009.3150</td>\n",
       "      <td>1278.7333</td>\n",
       "      <td>43.40%</td>\n",
       "      <td>134083.3333</td>\n",
       "      <td>2.30%</td>\n",
       "      <td>6042.0</td>\n",
       "      <td>4.36</td>\n",
       "      <td>192.75</td>\n",
       "    </tr>\n",
       "    <tr>\n",
       "      <th>6</th>\n",
       "      <td>9/1/2005</td>\n",
       "      <td>121.62157</td>\n",
       "      <td>5.77</td>\n",
       "      <td>38809.8</td>\n",
       "      <td>5926.2094</td>\n",
       "      <td>5.1</td>\n",
       "      <td>298319.8764</td>\n",
       "      <td>1272.5703</td>\n",
       "      <td>43.40%</td>\n",
       "      <td>134032.0000</td>\n",
       "      <td>2.30%</td>\n",
       "      <td>4361.0</td>\n",
       "      <td>4.39</td>\n",
       "      <td>193.52</td>\n",
       "    </tr>\n",
       "    <tr>\n",
       "      <th>7</th>\n",
       "      <td>10/1/2005</td>\n",
       "      <td>121.66380</td>\n",
       "      <td>6.07</td>\n",
       "      <td>39083.1</td>\n",
       "      <td>5944.5098</td>\n",
       "      <td>4.8</td>\n",
       "      <td>300630.4378</td>\n",
       "      <td>1266.4073</td>\n",
       "      <td>43.33%</td>\n",
       "      <td>134201.0000</td>\n",
       "      <td>2.37%</td>\n",
       "      <td>4814.0</td>\n",
       "      <td>4.45</td>\n",
       "      <td>194.29</td>\n",
       "    </tr>\n",
       "    <tr>\n",
       "      <th>8</th>\n",
       "      <td>11/1/2005</td>\n",
       "      <td>122.11284</td>\n",
       "      <td>6.33</td>\n",
       "      <td>39356.4</td>\n",
       "      <td>5962.8102</td>\n",
       "      <td>5.0</td>\n",
       "      <td>302940.9992</td>\n",
       "      <td>1260.2443</td>\n",
       "      <td>43.27%</td>\n",
       "      <td>134370.0000</td>\n",
       "      <td>2.43%</td>\n",
       "      <td>4713.0</td>\n",
       "      <td>4.34</td>\n",
       "      <td>195.06</td>\n",
       "    </tr>\n",
       "    <tr>\n",
       "      <th>9</th>\n",
       "      <td>12/1/2005</td>\n",
       "      <td>122.20399</td>\n",
       "      <td>6.27</td>\n",
       "      <td>39629.7</td>\n",
       "      <td>5981.1106</td>\n",
       "      <td>4.8</td>\n",
       "      <td>305251.5606</td>\n",
       "      <td>1254.0813</td>\n",
       "      <td>43.20%</td>\n",
       "      <td>134539.0000</td>\n",
       "      <td>2.50%</td>\n",
       "      <td>5458.0</td>\n",
       "      <td>4.32</td>\n",
       "      <td>195.83</td>\n",
       "    </tr>\n",
       "  </tbody>\n",
       "</table>\n",
       "</div>"
      ],
      "text/plain": [
       "        Date  House_Price_Index(S&P/Case-Shiller)  Mortgage_Rate (30 yers)  \\\n",
       "0   3/1/2005                            117.37315                     5.93   \n",
       "1   4/1/2005                            118.36502                     5.86   \n",
       "2   5/1/2005                            119.47166                     5.72   \n",
       "3   6/1/2005                            120.02775                     5.58   \n",
       "4   7/1/2005                            120.82903                     5.70   \n",
       "5   8/1/2005                            121.15007                     5.82   \n",
       "6   9/1/2005                            121.62157                     5.77   \n",
       "7  10/1/2005                            121.66380                     6.07   \n",
       "8  11/1/2005                            122.11284                     6.33   \n",
       "9  12/1/2005                            122.20399                     6.27   \n",
       "\n",
       "   Personal_Income  Resident_Population  Unemployment_Rate          GDP  \\\n",
       "0          37170.0            5816.4070                5.3  284456.5080   \n",
       "1          37443.3            5834.7074                5.1  286767.0694   \n",
       "2          37716.6            5853.0078                5.1  289077.6308   \n",
       "3          37989.9            5871.3082                5.4  291388.1922   \n",
       "4          38263.2            5889.6086                5.4  293698.7536   \n",
       "5          38536.5            5907.9090                5.2  296009.3150   \n",
       "6          38809.8            5926.2094                5.1  298319.8764   \n",
       "7          39083.1            5944.5098                4.8  300630.4378   \n",
       "8          39356.4            5962.8102                5.0  302940.9992   \n",
       "9          39629.7            5981.1106                4.8  305251.5606   \n",
       "\n",
       "   Crime_Rate Percent_With_Mortgage_Debt  Median_Debt  \\\n",
       "0   1309.5483                     43.20%  133706.0000   \n",
       "1   1303.3853                     43.27%  133866.0000   \n",
       "2   1297.2223                     43.33%  134026.0000   \n",
       "3   1291.0593                     43.40%  134186.0000   \n",
       "4   1284.8963                     43.40%  134134.6667   \n",
       "5   1278.7333                     43.40%  134083.3333   \n",
       "6   1272.5703                     43.40%  134032.0000   \n",
       "7   1266.4073                     43.33%  134201.0000   \n",
       "8   1260.2443                     43.27%  134370.0000   \n",
       "9   1254.0813                     43.20%  134539.0000   \n",
       "\n",
       "  Percent_With_Severely_Delinquent_Debt  New_Structures  \\\n",
       "0                                 2.30%          4281.0   \n",
       "1                                 2.30%          5548.0   \n",
       "2                                 2.30%          4878.0   \n",
       "3                                 2.30%          5304.0   \n",
       "4                                 2.30%          5140.0   \n",
       "5                                 2.30%          6042.0   \n",
       "6                                 2.30%          4361.0   \n",
       "7                                 2.37%          4814.0   \n",
       "8                                 2.43%          4713.0   \n",
       "9                                 2.50%          5458.0   \n",
       "\n",
       "   Economic_Conditions_Index  CPI all items less shelter  \n",
       "0                       4.19                      188.90  \n",
       "1                       4.69                      189.67  \n",
       "2                       4.58                      190.44  \n",
       "3                       4.83                      191.21  \n",
       "4                       5.06                      191.98  \n",
       "5                       4.36                      192.75  \n",
       "6                       4.39                      193.52  \n",
       "7                       4.45                      194.29  \n",
       "8                       4.34                      195.06  \n",
       "9                       4.32                      195.83  "
      ]
     },
     "execution_count": 2,
     "metadata": {},
     "output_type": "execute_result"
    }
   ],
   "source": [
    "\n",
    "raw_dataset = pd.read_csv('Dallas data summary Interpolated.csv',\n",
    "                      na_values = \"?\", comment='\\t',\n",
    "                      sep=\",\", skipinitialspace=True)\n",
    "\n",
    "features = raw_dataset.copy()\n",
    "\n",
    "features.head(10)"
   ]
  },
  {
   "cell_type": "code",
   "execution_count": 3,
   "metadata": {},
   "outputs": [
    {
     "ename": "TypeError",
     "evalue": "'float' object is not subscriptable",
     "output_type": "error",
     "traceback": [
      "\u001b[1;31m---------------------------------------------------------------------------\u001b[0m",
      "\u001b[1;31mTypeError\u001b[0m                                 Traceback (most recent call last)",
      "\u001b[1;32m<ipython-input-3-0af2fda6079e>\u001b[0m in \u001b[0;36m<module>\u001b[1;34m\u001b[0m\n\u001b[0;32m      2\u001b[0m \u001b[0mmdebt\u001b[0m \u001b[1;33m=\u001b[0m \u001b[1;33m[\u001b[0m\u001b[1;33m]\u001b[0m\u001b[1;33m\u001b[0m\u001b[1;33m\u001b[0m\u001b[0m\n\u001b[0;32m      3\u001b[0m \u001b[1;32mfor\u001b[0m \u001b[0mx\u001b[0m \u001b[1;32min\u001b[0m \u001b[0mmort_debt\u001b[0m\u001b[1;33m:\u001b[0m\u001b[1;33m\u001b[0m\u001b[1;33m\u001b[0m\u001b[0m\n\u001b[1;32m----> 4\u001b[1;33m   \u001b[0mmdebt\u001b[0m\u001b[1;33m.\u001b[0m\u001b[0mappend\u001b[0m\u001b[1;33m(\u001b[0m\u001b[0mfloat\u001b[0m\u001b[1;33m(\u001b[0m\u001b[0mx\u001b[0m\u001b[1;33m[\u001b[0m\u001b[1;33m:\u001b[0m\u001b[1;36m5\u001b[0m\u001b[1;33m]\u001b[0m\u001b[1;33m)\u001b[0m\u001b[1;33m)\u001b[0m\u001b[1;33m\u001b[0m\u001b[1;33m\u001b[0m\u001b[0m\n\u001b[0m\u001b[0;32m      5\u001b[0m \u001b[0mfeatures\u001b[0m \u001b[1;33m=\u001b[0m \u001b[0mfeatures\u001b[0m\u001b[1;33m.\u001b[0m\u001b[0mdrop\u001b[0m\u001b[1;33m(\u001b[0m\u001b[1;34m'Percent_With_Mortgage_Debt'\u001b[0m\u001b[1;33m,\u001b[0m\u001b[0maxis\u001b[0m\u001b[1;33m=\u001b[0m\u001b[1;36m1\u001b[0m\u001b[1;33m)\u001b[0m\u001b[1;33m\u001b[0m\u001b[1;33m\u001b[0m\u001b[0m\n\u001b[0;32m      6\u001b[0m \u001b[1;33m\u001b[0m\u001b[0m\n",
      "\u001b[1;31mTypeError\u001b[0m: 'float' object is not subscriptable"
     ]
    }
   ],
   "source": [
    "mort_debt = np.array(features['Percent_With_Mortgage_Debt'])\n",
    "mdebt = []\n",
    "for x in mort_debt:\n",
    "  mdebt.append(float(x[:5]))\n",
    "features = features.drop('Percent_With_Mortgage_Debt',axis=1)\n",
    "\n",
    "del_debt = np.array(features['Percent_With_Severely_Delinquent_Debt'])\n",
    "ddebt = []\n",
    "for x in del_debt:\n",
    "  ddebt.append(float(x[:4]))\n",
    "features = features.drop('Percent_With_Severely_Delinquent_Debt',axis=1)\n",
    "\n",
    "features['Percent_With_Mortgage_Debt'] = mdebt\n",
    "features['Percent_With_Severely_Delinquent_Debt'] = ddebt\n",
    "features.head()"
   ]
  },
  {
   "cell_type": "code",
   "execution_count": null,
   "metadata": {},
   "outputs": [],
   "source": [
    "y= features.pop(\"House_Price_Index(S&P/Case-Shiller)\")\n"
   ]
  },
  {
   "cell_type": "code",
   "execution_count": null,
   "metadata": {},
   "outputs": [],
   "source": [
    "X=features.drop('Date',axis=1)\n",
    "X"
   ]
  },
  {
   "cell_type": "code",
   "execution_count": null,
   "metadata": {},
   "outputs": [],
   "source": [
    "train_stats = X.describe()\n",
    "train_stats = train_stats.transpose()\n",
    "train_stats"
   ]
  },
  {
   "cell_type": "code",
   "execution_count": null,
   "metadata": {},
   "outputs": [],
   "source": [
    "def norm(x):\n",
    "  return (x - train_stats['mean']) / train_stats['std']\n",
    "X = norm(X)\n",
    "X"
   ]
  },
  {
   "cell_type": "code",
   "execution_count": null,
   "metadata": {},
   "outputs": [],
   "source": [
    "regressor = LinearRegression()\n",
    "regressor.fit(X, y)"
   ]
  },
  {
   "cell_type": "code",
   "execution_count": null,
   "metadata": {},
   "outputs": [],
   "source": [
    "y_pred = regressor.predict(X)"
   ]
  },
  {
   "cell_type": "code",
   "execution_count": null,
   "metadata": {},
   "outputs": [],
   "source": [
    "plt.scatter(X['Mortgage_Rate (30 yers)'], y, color = 'red')\n",
    "plt.plot(X['Mortgage_Rate (30 yers)'], regressor.predict(X), color = 'blue')\n",
    "\n",
    "plt.xlabel('Mortgage_Rate (30 yers)')\n",
    "plt.ylabel('House_Price_Index(S&P/Case-Shiller)')\n",
    "plt.show()"
   ]
  },
  {
   "cell_type": "code",
   "execution_count": null,
   "metadata": {},
   "outputs": [],
   "source": [
    "a = plt.axes(aspect='equal')\n",
    "plt.scatter(y, y_pred)\n",
    "plt.xlabel('True Values [House_Price_Index]')\n",
    "plt.ylabel('Predictions [House_Price_Index]')\n",
    "lims = [140, 220]\n",
    "plt.xlim(lims)\n",
    "plt.ylim(lims)\n",
    "_ = plt.plot(lims, lims)\n",
    "\n",
    "errors = abs(y_pred - y)\n",
    "\n",
    "\n",
    "print('Mean Absolute Error:', round(np.mean(errors), 2))\n",
    "\n",
    "mape = np.mean(100 * (errors / y))\n",
    "accuracy = 100 - mape\n",
    "print('Accuracy:', round(accuracy, 2), '%.')"
   ]
  },
  {
   "cell_type": "code",
   "execution_count": null,
   "metadata": {},
   "outputs": [],
   "source": [
    "regressor.get_params()"
   ]
  },
  {
   "cell_type": "code",
   "execution_count": null,
   "metadata": {},
   "outputs": [],
   "source": [
    "regressor.score(X, y, sample_weight=None) # Return the coefficient of determination r square of the prediction."
   ]
  },
  {
   "cell_type": "code",
   "execution_count": null,
   "metadata": {},
   "outputs": [],
   "source": [
    "coef=pd.DataFrame(regressor.coef_)\n",
    "coef#get the coefficient for each term"
   ]
  },
  {
   "cell_type": "code",
   "execution_count": null,
   "metadata": {},
   "outputs": [],
   "source": [
    "coef.to_csv('coef-result.csv',index = False, header=True)"
   ]
  },
  {
   "cell_type": "code",
   "execution_count": null,
   "metadata": {},
   "outputs": [],
   "source": [
    "print(y_pred)"
   ]
  },
  {
   "cell_type": "code",
   "execution_count": null,
   "metadata": {},
   "outputs": [],
   "source": [
    "Newy=pd.DataFrame(y_pred)\n",
    "Newy.to_csv('y-pred.csv',index = False, header=True)\n",
    "X.to_csv('X.csv',index = False, header=True)\n",
    "Newy"
   ]
  },
  {
   "cell_type": "code",
   "execution_count": null,
   "metadata": {},
   "outputs": [],
   "source": [
    "X_transpose=X.transpose()"
   ]
  },
  {
   "cell_type": "code",
   "execution_count": null,
   "metadata": {},
   "outputs": [],
   "source": [
    "X_transpose"
   ]
  },
  {
   "cell_type": "code",
   "execution_count": null,
   "metadata": {},
   "outputs": [],
   "source": [
    "X_transpose=X_transpose.reset_index()"
   ]
  },
  {
   "cell_type": "code",
   "execution_count": null,
   "metadata": {},
   "outputs": [],
   "source": [
    "X_transpose"
   ]
  },
  {
   "cell_type": "code",
   "execution_count": null,
   "metadata": {},
   "outputs": [],
   "source": [
    "X_transpose_index=X_transpose[['index']]"
   ]
  },
  {
   "cell_type": "code",
   "execution_count": null,
   "metadata": {},
   "outputs": [],
   "source": [
    "X_transpose_index"
   ]
  },
  {
   "cell_type": "code",
   "execution_count": null,
   "metadata": {},
   "outputs": [],
   "source": [
    "X_transpose_index=X_transpose_index.join(coef)"
   ]
  },
  {
   "cell_type": "code",
   "execution_count": null,
   "metadata": {},
   "outputs": [],
   "source": []
  },
  {
   "cell_type": "code",
   "execution_count": null,
   "metadata": {},
   "outputs": [],
   "source": [
    "X_transpose_index"
   ]
  },
  {
   "cell_type": "code",
   "execution_count": null,
   "metadata": {},
   "outputs": [],
   "source": [
    "plt.bar(X_transpose_index['index'],X_transpose_index[0])\n",
    "plt.xticks(rotation=270)"
   ]
  },
  {
   "cell_type": "code",
   "execution_count": null,
   "metadata": {},
   "outputs": [],
   "source": [
    "raw_dataset_2 = pd.read_csv('2018 prediction.csv',\n",
    "                      na_values = \"?\", comment='\\t',\n",
    "                      sep=\",\", skipinitialspace=True)\n",
    "\n",
    "features_2 = raw_dataset_2.copy()\n",
    "\n",
    "features_2.head(14)"
   ]
  },
  {
   "cell_type": "code",
   "execution_count": null,
   "metadata": {
    "scrolled": true
   },
   "outputs": [],
   "source": [
    "mort_debt_2 = np.array(features_2['Percent_With_Mortgage_Debt'])\n",
    "mdebt_2 = []\n",
    "for x in mort_debt_2:\n",
    "  mdebt_2.append(float(x[:5]))\n",
    "features_2 = features_2.drop('Percent_With_Mortgage_Debt',axis=1)\n",
    "\n",
    "del_debt_2 = np.array(features_2['Percent_With_Severely_Delinquent_Debt'])\n",
    "ddebt_2 = []\n",
    "for x in del_debt_2:\n",
    "  ddebt_2.append(float(x[:4]))\n",
    "features_2 = features_2.drop('Percent_With_Severely_Delinquent_Debt',axis=1)\n",
    "\n",
    "features_2['Percent_With_Mortgage_Debt'] = mdebt_2\n",
    "features_2['Percent_With_Severely_Delinquent_Debt'] = ddebt_2\n",
    "features_2.head()"
   ]
  },
  {
   "cell_type": "code",
   "execution_count": null,
   "metadata": {
    "scrolled": true
   },
   "outputs": [],
   "source": [
    "y_2= features_2.pop(\"House_Price_Index(S&P/Case-Shiller)\")\n",
    "X_2=features_2.drop('Date',axis=1)\n",
    "X_2"
   ]
  },
  {
   "cell_type": "code",
   "execution_count": null,
   "metadata": {},
   "outputs": [],
   "source": [
    "train_stats_2 = X_2.describe()\n",
    "train_stats_2 = train_stats_2.transpose()\n",
    "train_stats_2"
   ]
  },
  {
   "cell_type": "code",
   "execution_count": null,
   "metadata": {},
   "outputs": [],
   "source": [
    "def norm(x):\n",
    "  return (x - train_stats['mean']) / train_stats['std']\n",
    "X_2 = norm(X_2)\n",
    "X_2"
   ]
  },
  {
   "cell_type": "code",
   "execution_count": null,
   "metadata": {},
   "outputs": [],
   "source": [
    "y_pred_2 = regressor.predict(X_2)\n"
   ]
  },
  {
   "cell_type": "code",
   "execution_count": null,
   "metadata": {},
   "outputs": [],
   "source": [
    "print(y_pred_2)"
   ]
  },
  {
   "cell_type": "code",
   "execution_count": null,
   "metadata": {},
   "outputs": [],
   "source": [
    "Newy_2=pd.DataFrame(y_pred_2)\n",
    "Newy_2.to_csv('y-verify.csv',index = False, header=True)\n",
    "Newy_2"
   ]
  },
  {
   "cell_type": "code",
   "execution_count": null,
   "metadata": {},
   "outputs": [],
   "source": []
  }
 ],
 "metadata": {
  "kernelspec": {
   "display_name": "Python 3",
   "language": "python",
   "name": "python3"
  },
  "language_info": {
   "codemirror_mode": {
    "name": "ipython",
    "version": 3
   },
   "file_extension": ".py",
   "mimetype": "text/x-python",
   "name": "python",
   "nbconvert_exporter": "python",
   "pygments_lexer": "ipython3",
   "version": "3.7.9"
  }
 },
 "nbformat": 4,
 "nbformat_minor": 2
}
