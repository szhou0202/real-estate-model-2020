{
 "cells": [
  {
   "cell_type": "code",
   "execution_count": 1,
   "metadata": {},
   "outputs": [],
   "source": [
    "import numpy as np\n",
    "import matplotlib.pyplot as plt\n",
    "import pandas as pd\n",
    "from sklearn.linear_model import LinearRegression"
   ]
  },
  {
   "cell_type": "code",
   "execution_count": 2,
   "metadata": {},
   "outputs": [
    {
     "data": {
      "text/html": [
       "<div>\n",
       "<style scoped>\n",
       "    .dataframe tbody tr th:only-of-type {\n",
       "        vertical-align: middle;\n",
       "    }\n",
       "\n",
       "    .dataframe tbody tr th {\n",
       "        vertical-align: top;\n",
       "    }\n",
       "\n",
       "    .dataframe thead th {\n",
       "        text-align: right;\n",
       "    }\n",
       "</style>\n",
       "<table border=\"1\" class=\"dataframe\">\n",
       "  <thead>\n",
       "    <tr style=\"text-align: right;\">\n",
       "      <th></th>\n",
       "      <th>Date</th>\n",
       "      <th>House_Price_Index(S&amp;P/Case-Shiller)</th>\n",
       "      <th>Mortgage_Rate (30 yers)</th>\n",
       "      <th>Personal_Income</th>\n",
       "      <th>Resident_Population</th>\n",
       "      <th>Unemployment_Rate</th>\n",
       "      <th>GDP</th>\n",
       "      <th>Crime_Rate</th>\n",
       "      <th>Percent_With_Mortgage_Debt</th>\n",
       "      <th>Median_Debt</th>\n",
       "      <th>Percent_With_Severely_Delinquent_Debt</th>\n",
       "      <th>New_Structures</th>\n",
       "      <th>Economic_Conditions_Index</th>\n",
       "      <th>CPI all items less shelter</th>\n",
       "    </tr>\n",
       "  </thead>\n",
       "  <tbody>\n",
       "    <tr>\n",
       "      <th>0</th>\n",
       "      <td>3/1/2005</td>\n",
       "      <td>179.460130</td>\n",
       "      <td>5.93</td>\n",
       "      <td>49396.0</td>\n",
       "      <td>4459.312</td>\n",
       "      <td>4.7</td>\n",
       "      <td>287293.8040</td>\n",
       "      <td>1204.93445</td>\n",
       "      <td>40.50%</td>\n",
       "      <td>226272.0000</td>\n",
       "      <td>0.50%</td>\n",
       "      <td>1479.0</td>\n",
       "      <td>0.02</td>\n",
       "      <td>197.4</td>\n",
       "    </tr>\n",
       "    <tr>\n",
       "      <th>1</th>\n",
       "      <td>4/1/2005</td>\n",
       "      <td>180.493176</td>\n",
       "      <td>5.86</td>\n",
       "      <td>49726.0</td>\n",
       "      <td>4460.729</td>\n",
       "      <td>4.4</td>\n",
       "      <td>287317.3738</td>\n",
       "      <td>1217.46160</td>\n",
       "      <td>40.50%</td>\n",
       "      <td>227099.6667</td>\n",
       "      <td>0.47%</td>\n",
       "      <td>1235.0</td>\n",
       "      <td>0.32</td>\n",
       "      <td>198.6</td>\n",
       "    </tr>\n",
       "    <tr>\n",
       "      <th>2</th>\n",
       "      <td>5/1/2005</td>\n",
       "      <td>180.710013</td>\n",
       "      <td>5.72</td>\n",
       "      <td>50056.0</td>\n",
       "      <td>4462.145</td>\n",
       "      <td>4.3</td>\n",
       "      <td>287340.9436</td>\n",
       "      <td>1229.98875</td>\n",
       "      <td>40.50%</td>\n",
       "      <td>227927.3333</td>\n",
       "      <td>0.43%</td>\n",
       "      <td>1616.0</td>\n",
       "      <td>0.42</td>\n",
       "      <td>198.6</td>\n",
       "    </tr>\n",
       "    <tr>\n",
       "      <th>3</th>\n",
       "      <td>6/1/2005</td>\n",
       "      <td>180.083117</td>\n",
       "      <td>5.58</td>\n",
       "      <td>50386.0</td>\n",
       "      <td>4463.562</td>\n",
       "      <td>4.8</td>\n",
       "      <td>287364.5134</td>\n",
       "      <td>1242.51590</td>\n",
       "      <td>40.50%</td>\n",
       "      <td>228755.0000</td>\n",
       "      <td>0.40%</td>\n",
       "      <td>1983.0</td>\n",
       "      <td>0.32</td>\n",
       "      <td>198.8</td>\n",
       "    </tr>\n",
       "    <tr>\n",
       "      <th>4</th>\n",
       "      <td>7/1/2005</td>\n",
       "      <td>180.011995</td>\n",
       "      <td>5.70</td>\n",
       "      <td>50717.0</td>\n",
       "      <td>4464.978</td>\n",
       "      <td>4.6</td>\n",
       "      <td>287388.0832</td>\n",
       "      <td>1255.04305</td>\n",
       "      <td>40.57%</td>\n",
       "      <td>229226.6667</td>\n",
       "      <td>0.43%</td>\n",
       "      <td>1632.0</td>\n",
       "      <td>1.06</td>\n",
       "      <td>198.8</td>\n",
       "    </tr>\n",
       "    <tr>\n",
       "      <th>5</th>\n",
       "      <td>8/1/2005</td>\n",
       "      <td>179.700994</td>\n",
       "      <td>5.82</td>\n",
       "      <td>51047.0</td>\n",
       "      <td>4466.395</td>\n",
       "      <td>4.3</td>\n",
       "      <td>287411.6530</td>\n",
       "      <td>1267.57020</td>\n",
       "      <td>40.63%</td>\n",
       "      <td>229698.3333</td>\n",
       "      <td>0.47%</td>\n",
       "      <td>1222.0</td>\n",
       "      <td>0.93</td>\n",
       "      <td>207.2</td>\n",
       "    </tr>\n",
       "    <tr>\n",
       "      <th>6</th>\n",
       "      <td>9/1/2005</td>\n",
       "      <td>180.147647</td>\n",
       "      <td>5.77</td>\n",
       "      <td>51377.0</td>\n",
       "      <td>4467.811</td>\n",
       "      <td>4.7</td>\n",
       "      <td>287435.2228</td>\n",
       "      <td>1280.09735</td>\n",
       "      <td>40.70%</td>\n",
       "      <td>230170.0000</td>\n",
       "      <td>0.50%</td>\n",
       "      <td>1252.0</td>\n",
       "      <td>1.23</td>\n",
       "      <td>207.2</td>\n",
       "    </tr>\n",
       "    <tr>\n",
       "      <th>7</th>\n",
       "      <td>10/1/2005</td>\n",
       "      <td>180.012971</td>\n",
       "      <td>6.07</td>\n",
       "      <td>51707.0</td>\n",
       "      <td>4469.228</td>\n",
       "      <td>4.2</td>\n",
       "      <td>287458.7926</td>\n",
       "      <td>1292.62450</td>\n",
       "      <td>40.57%</td>\n",
       "      <td>231436.3333</td>\n",
       "      <td>0.53%</td>\n",
       "      <td>1235.0</td>\n",
       "      <td>1.15</td>\n",
       "      <td>203.2</td>\n",
       "    </tr>\n",
       "    <tr>\n",
       "      <th>8</th>\n",
       "      <td>11/1/2005</td>\n",
       "      <td>180.811955</td>\n",
       "      <td>6.33</td>\n",
       "      <td>52038.0</td>\n",
       "      <td>4470.644</td>\n",
       "      <td>4.4</td>\n",
       "      <td>287482.3624</td>\n",
       "      <td>1305.15165</td>\n",
       "      <td>40.43%</td>\n",
       "      <td>232702.6667</td>\n",
       "      <td>0.57%</td>\n",
       "      <td>1234.0</td>\n",
       "      <td>0.94</td>\n",
       "      <td>203.2</td>\n",
       "    </tr>\n",
       "    <tr>\n",
       "      <th>9</th>\n",
       "      <td>12/1/2005</td>\n",
       "      <td>180.437704</td>\n",
       "      <td>6.27</td>\n",
       "      <td>52368.0</td>\n",
       "      <td>4472.061</td>\n",
       "      <td>4.2</td>\n",
       "      <td>287505.9322</td>\n",
       "      <td>1317.67880</td>\n",
       "      <td>40.30%</td>\n",
       "      <td>233969.0000</td>\n",
       "      <td>0.60%</td>\n",
       "      <td>1714.0</td>\n",
       "      <td>0.73</td>\n",
       "      <td>204.9</td>\n",
       "    </tr>\n",
       "  </tbody>\n",
       "</table>\n",
       "</div>"
      ],
      "text/plain": [
       "        Date  House_Price_Index(S&P/Case-Shiller)  Mortgage_Rate (30 yers)  \\\n",
       "0   3/1/2005                           179.460130                     5.93   \n",
       "1   4/1/2005                           180.493176                     5.86   \n",
       "2   5/1/2005                           180.710013                     5.72   \n",
       "3   6/1/2005                           180.083117                     5.58   \n",
       "4   7/1/2005                           180.011995                     5.70   \n",
       "5   8/1/2005                           179.700994                     5.82   \n",
       "6   9/1/2005                           180.147647                     5.77   \n",
       "7  10/1/2005                           180.012971                     6.07   \n",
       "8  11/1/2005                           180.811955                     6.33   \n",
       "9  12/1/2005                           180.437704                     6.27   \n",
       "\n",
       "   Personal_Income  Resident_Population  Unemployment_Rate          GDP  \\\n",
       "0          49396.0             4459.312                4.7  287293.8040   \n",
       "1          49726.0             4460.729                4.4  287317.3738   \n",
       "2          50056.0             4462.145                4.3  287340.9436   \n",
       "3          50386.0             4463.562                4.8  287364.5134   \n",
       "4          50717.0             4464.978                4.6  287388.0832   \n",
       "5          51047.0             4466.395                4.3  287411.6530   \n",
       "6          51377.0             4467.811                4.7  287435.2228   \n",
       "7          51707.0             4469.228                4.2  287458.7926   \n",
       "8          52038.0             4470.644                4.4  287482.3624   \n",
       "9          52368.0             4472.061                4.2  287505.9322   \n",
       "\n",
       "   Crime_Rate Percent_With_Mortgage_Debt  Median_Debt  \\\n",
       "0  1204.93445                     40.50%  226272.0000   \n",
       "1  1217.46160                     40.50%  227099.6667   \n",
       "2  1229.98875                     40.50%  227927.3333   \n",
       "3  1242.51590                     40.50%  228755.0000   \n",
       "4  1255.04305                     40.57%  229226.6667   \n",
       "5  1267.57020                     40.63%  229698.3333   \n",
       "6  1280.09735                     40.70%  230170.0000   \n",
       "7  1292.62450                     40.57%  231436.3333   \n",
       "8  1305.15165                     40.43%  232702.6667   \n",
       "9  1317.67880                     40.30%  233969.0000   \n",
       "\n",
       "  Percent_With_Severely_Delinquent_Debt  New_Structures  \\\n",
       "0                                 0.50%          1479.0   \n",
       "1                                 0.47%          1235.0   \n",
       "2                                 0.43%          1616.0   \n",
       "3                                 0.40%          1983.0   \n",
       "4                                 0.43%          1632.0   \n",
       "5                                 0.47%          1222.0   \n",
       "6                                 0.50%          1252.0   \n",
       "7                                 0.53%          1235.0   \n",
       "8                                 0.57%          1234.0   \n",
       "9                                 0.60%          1714.0   \n",
       "\n",
       "   Economic_Conditions_Index  CPI all items less shelter  \n",
       "0                       0.02                       197.4  \n",
       "1                       0.32                       198.6  \n",
       "2                       0.42                       198.6  \n",
       "3                       0.32                       198.8  \n",
       "4                       1.06                       198.8  \n",
       "5                       0.93                       207.2  \n",
       "6                       1.23                       207.2  \n",
       "7                       1.15                       203.2  \n",
       "8                       0.94                       203.2  \n",
       "9                       0.73                       204.9  "
      ]
     },
     "execution_count": 2,
     "metadata": {},
     "output_type": "execute_result"
    }
   ],
   "source": [
    "\n",
    "raw_dataset = pd.read_csv('boston Interpolated summary.csv',\n",
    "                      na_values = \"?\", comment='\\t',\n",
    "                      sep=\",\", skipinitialspace=True)\n",
    "\n",
    "features = raw_dataset.copy()\n",
    "\n",
    "features.head(10)"
   ]
  },
  {
   "cell_type": "code",
   "execution_count": 3,
   "metadata": {},
   "outputs": [
    {
     "ename": "TypeError",
     "evalue": "'float' object is not subscriptable",
     "output_type": "error",
     "traceback": [
      "\u001b[1;31m---------------------------------------------------------------------------\u001b[0m",
      "\u001b[1;31mTypeError\u001b[0m                                 Traceback (most recent call last)",
      "\u001b[1;32m<ipython-input-3-0af2fda6079e>\u001b[0m in \u001b[0;36m<module>\u001b[1;34m\u001b[0m\n\u001b[0;32m      2\u001b[0m \u001b[0mmdebt\u001b[0m \u001b[1;33m=\u001b[0m \u001b[1;33m[\u001b[0m\u001b[1;33m]\u001b[0m\u001b[1;33m\u001b[0m\u001b[1;33m\u001b[0m\u001b[0m\n\u001b[0;32m      3\u001b[0m \u001b[1;32mfor\u001b[0m \u001b[0mx\u001b[0m \u001b[1;32min\u001b[0m \u001b[0mmort_debt\u001b[0m\u001b[1;33m:\u001b[0m\u001b[1;33m\u001b[0m\u001b[1;33m\u001b[0m\u001b[0m\n\u001b[1;32m----> 4\u001b[1;33m   \u001b[0mmdebt\u001b[0m\u001b[1;33m.\u001b[0m\u001b[0mappend\u001b[0m\u001b[1;33m(\u001b[0m\u001b[0mfloat\u001b[0m\u001b[1;33m(\u001b[0m\u001b[0mx\u001b[0m\u001b[1;33m[\u001b[0m\u001b[1;33m:\u001b[0m\u001b[1;36m5\u001b[0m\u001b[1;33m]\u001b[0m\u001b[1;33m)\u001b[0m\u001b[1;33m)\u001b[0m\u001b[1;33m\u001b[0m\u001b[1;33m\u001b[0m\u001b[0m\n\u001b[0m\u001b[0;32m      5\u001b[0m \u001b[0mfeatures\u001b[0m \u001b[1;33m=\u001b[0m \u001b[0mfeatures\u001b[0m\u001b[1;33m.\u001b[0m\u001b[0mdrop\u001b[0m\u001b[1;33m(\u001b[0m\u001b[1;34m'Percent_With_Mortgage_Debt'\u001b[0m\u001b[1;33m,\u001b[0m\u001b[0maxis\u001b[0m\u001b[1;33m=\u001b[0m\u001b[1;36m1\u001b[0m\u001b[1;33m)\u001b[0m\u001b[1;33m\u001b[0m\u001b[1;33m\u001b[0m\u001b[0m\n\u001b[0;32m      6\u001b[0m \u001b[1;33m\u001b[0m\u001b[0m\n",
      "\u001b[1;31mTypeError\u001b[0m: 'float' object is not subscriptable"
     ]
    }
   ],
   "source": [
    "mort_debt = np.array(features['Percent_With_Mortgage_Debt'])\n",
    "mdebt = []\n",
    "for x in mort_debt:\n",
    "  mdebt.append(float(x[:5]))\n",
    "features = features.drop('Percent_With_Mortgage_Debt',axis=1)\n",
    "\n",
    "del_debt = np.array(features['Percent_With_Severely_Delinquent_Debt'])\n",
    "ddebt = []\n",
    "for x in del_debt:\n",
    "  ddebt.append(float(x[:4]))\n",
    "features = features.drop('Percent_With_Severely_Delinquent_Debt',axis=1)\n",
    "\n",
    "features['Percent_With_Mortgage_Debt'] = mdebt\n",
    "features['Percent_With_Severely_Delinquent_Debt'] = ddebt\n",
    "features.head()"
   ]
  },
  {
   "cell_type": "code",
   "execution_count": null,
   "metadata": {},
   "outputs": [],
   "source": [
    "y= features.pop(\"House_Price_Index(S&P/Case-Shiller)\")\n"
   ]
  },
  {
   "cell_type": "code",
   "execution_count": null,
   "metadata": {},
   "outputs": [],
   "source": [
    "X=features.drop('Date',axis=1)\n",
    "X"
   ]
  },
  {
   "cell_type": "code",
   "execution_count": null,
   "metadata": {},
   "outputs": [],
   "source": [
    "train_stats = X.describe()\n",
    "train_stats = train_stats.transpose()\n",
    "train_stats"
   ]
  },
  {
   "cell_type": "code",
   "execution_count": null,
   "metadata": {},
   "outputs": [],
   "source": [
    "def norm(x):\n",
    "  return (x - train_stats['mean']) / train_stats['std']\n",
    "X = norm(X)\n",
    "X"
   ]
  },
  {
   "cell_type": "code",
   "execution_count": null,
   "metadata": {},
   "outputs": [],
   "source": [
    "regressor = LinearRegression()\n",
    "regressor.fit(X, y)"
   ]
  },
  {
   "cell_type": "code",
   "execution_count": null,
   "metadata": {},
   "outputs": [],
   "source": [
    "y_pred = regressor.predict(X)"
   ]
  },
  {
   "cell_type": "code",
   "execution_count": null,
   "metadata": {},
   "outputs": [],
   "source": [
    "plt.scatter(X['Mortgage_Rate (30 yers)'], y, color = 'red')\n",
    "plt.plot(X['Mortgage_Rate (30 yers)'], regressor.predict(X), color = 'blue')\n",
    "\n",
    "plt.xlabel('Mortgage_Rate (30 yers)')\n",
    "plt.ylabel('House_Price_Index(S&P/Case-Shiller)')\n",
    "plt.show()"
   ]
  },
  {
   "cell_type": "code",
   "execution_count": null,
   "metadata": {
    "scrolled": true
   },
   "outputs": [],
   "source": [
    "a = plt.axes(aspect='equal')\n",
    "plt.scatter(y, y_pred)\n",
    "plt.xlabel('True Values [House_Price_Index]')\n",
    "plt.ylabel('Predictions [House_Price_Index]')\n",
    "lims = [140, 220]\n",
    "plt.xlim(lims)\n",
    "plt.ylim(lims)\n",
    "_ = plt.plot(lims, lims)\n",
    "\n",
    "errors = abs(y_pred - y)\n",
    "\n",
    "\n",
    "print('Mean Absolute Error:', round(np.mean(errors), 2))\n",
    "\n",
    "mape = np.mean(100 * (errors / y))\n",
    "accuracy = 100 - mape\n",
    "print('Accuracy:', round(accuracy, 2), '%.')"
   ]
  },
  {
   "cell_type": "code",
   "execution_count": null,
   "metadata": {},
   "outputs": [],
   "source": [
    "regressor.get_params()"
   ]
  },
  {
   "cell_type": "code",
   "execution_count": null,
   "metadata": {},
   "outputs": [],
   "source": [
    "regressor.score(X, y, sample_weight=None) # Return the coefficient of determination r square of the prediction."
   ]
  },
  {
   "cell_type": "code",
   "execution_count": null,
   "metadata": {},
   "outputs": [],
   "source": [
    "coef=pd.DataFrame(regressor.coef_)\n",
    "coef#get the coefficient for each term"
   ]
  },
  {
   "cell_type": "code",
   "execution_count": null,
   "metadata": {},
   "outputs": [],
   "source": [
    "coef.to_csv('coef-result.csv',index = False, header=True)"
   ]
  },
  {
   "cell_type": "code",
   "execution_count": null,
   "metadata": {},
   "outputs": [],
   "source": [
    "print(y_pred)"
   ]
  },
  {
   "cell_type": "code",
   "execution_count": null,
   "metadata": {},
   "outputs": [],
   "source": [
    "Newy=pd.DataFrame(y_pred)\n",
    "Newy.to_csv('y-pred.csv',index = False, header=True)\n",
    "X.to_csv('X.csv',index = False, header=True)\n",
    "Newy"
   ]
  },
  {
   "cell_type": "code",
   "execution_count": null,
   "metadata": {},
   "outputs": [],
   "source": [
    "X_transpose=X.transpose()"
   ]
  },
  {
   "cell_type": "code",
   "execution_count": null,
   "metadata": {},
   "outputs": [],
   "source": [
    "X_transpose"
   ]
  },
  {
   "cell_type": "code",
   "execution_count": null,
   "metadata": {},
   "outputs": [],
   "source": [
    "X_transpose=X_transpose.reset_index()"
   ]
  },
  {
   "cell_type": "code",
   "execution_count": null,
   "metadata": {},
   "outputs": [],
   "source": [
    "X_transpose"
   ]
  },
  {
   "cell_type": "code",
   "execution_count": null,
   "metadata": {},
   "outputs": [],
   "source": [
    "X_transpose_index=X_transpose[['index']]"
   ]
  },
  {
   "cell_type": "code",
   "execution_count": null,
   "metadata": {},
   "outputs": [],
   "source": [
    "X_transpose_index"
   ]
  },
  {
   "cell_type": "code",
   "execution_count": null,
   "metadata": {},
   "outputs": [],
   "source": [
    "X_transpose_index=X_transpose_index.join(coef)"
   ]
  },
  {
   "cell_type": "code",
   "execution_count": null,
   "metadata": {},
   "outputs": [],
   "source": []
  },
  {
   "cell_type": "code",
   "execution_count": null,
   "metadata": {},
   "outputs": [],
   "source": [
    "X_transpose_index"
   ]
  },
  {
   "cell_type": "code",
   "execution_count": null,
   "metadata": {
    "scrolled": false
   },
   "outputs": [],
   "source": [
    "plt.bar(X_transpose_index['index'],X_transpose_index[0])\n",
    "plt.xticks(rotation=270)"
   ]
  },
  {
   "cell_type": "code",
   "execution_count": null,
   "metadata": {},
   "outputs": [],
   "source": [
    "raw_dataset_2 = pd.read_csv('2013 prediction.csv',\n",
    "                      na_values = \"?\", comment='\\t',\n",
    "                      sep=\",\", skipinitialspace=True)\n",
    "\n",
    "features_2 = raw_dataset_2.copy()\n",
    "\n",
    "features_2.head(14)"
   ]
  },
  {
   "cell_type": "code",
   "execution_count": null,
   "metadata": {
    "scrolled": true
   },
   "outputs": [],
   "source": [
    "mort_debt_2 = np.array(features_2['Percent_With_Mortgage_Debt'])\n",
    "mdebt_2 = []\n",
    "for x in mort_debt_2:\n",
    "  mdebt_2.append(float(x[:5]))\n",
    "features_2 = features_2.drop('Percent_With_Mortgage_Debt',axis=1)\n",
    "\n",
    "del_debt_2 = np.array(features_2['Percent_With_Severely_Delinquent_Debt'])\n",
    "ddebt_2 = []\n",
    "for x in del_debt_2:\n",
    "  ddebt_2.append(float(x[:4]))\n",
    "features_2 = features_2.drop('Percent_With_Severely_Delinquent_Debt',axis=1)\n",
    "\n",
    "features_2['Percent_With_Mortgage_Debt'] = mdebt_2\n",
    "features_2['Percent_With_Severely_Delinquent_Debt'] = ddebt_2\n",
    "features_2.head()"
   ]
  },
  {
   "cell_type": "code",
   "execution_count": null,
   "metadata": {
    "scrolled": true
   },
   "outputs": [],
   "source": [
    "y_2= features_2.pop(\"House_Price_Index(S&P/Case-Shiller)\")\n",
    "X_2=features_2.drop('Date',axis=1)\n",
    "X_2"
   ]
  },
  {
   "cell_type": "code",
   "execution_count": null,
   "metadata": {},
   "outputs": [],
   "source": [
    "train_stats_2 = X_2.describe()\n",
    "train_stats_2 = train_stats_2.transpose()\n",
    "train_stats_2"
   ]
  },
  {
   "cell_type": "code",
   "execution_count": null,
   "metadata": {},
   "outputs": [],
   "source": [
    "def norm(x):\n",
    "  return (x - train_stats['mean']) / train_stats['std']\n",
    "X_2 = norm(X_2)\n",
    "X_2"
   ]
  },
  {
   "cell_type": "code",
   "execution_count": null,
   "metadata": {},
   "outputs": [],
   "source": [
    "y_pred_2 = regressor.predict(X_2)\n"
   ]
  },
  {
   "cell_type": "code",
   "execution_count": null,
   "metadata": {},
   "outputs": [],
   "source": [
    "print(y_pred_2)"
   ]
  },
  {
   "cell_type": "code",
   "execution_count": null,
   "metadata": {},
   "outputs": [],
   "source": [
    "Newy_2=pd.DataFrame(y_pred_2)\n",
    "Newy_2.to_csv('y-verify.csv',index = False, header=True)\n",
    "Newy_2"
   ]
  },
  {
   "cell_type": "code",
   "execution_count": null,
   "metadata": {},
   "outputs": [],
   "source": []
  }
 ],
 "metadata": {
  "kernelspec": {
   "display_name": "Python 3",
   "language": "python",
   "name": "python3"
  },
  "language_info": {
   "codemirror_mode": {
    "name": "ipython",
    "version": 3
   },
   "file_extension": ".py",
   "mimetype": "text/x-python",
   "name": "python",
   "nbconvert_exporter": "python",
   "pygments_lexer": "ipython3",
   "version": "3.7.9"
  }
 },
 "nbformat": 4,
 "nbformat_minor": 2
}
