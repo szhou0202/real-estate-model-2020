{
 "cells": [
  {
   "cell_type": "code",
   "execution_count": 1,
   "metadata": {},
   "outputs": [],
   "source": [
    "import numpy as np\n",
    "import matplotlib.pyplot as plt\n",
    "import pandas as pd\n",
    "from sklearn.linear_model import LinearRegression"
   ]
  },
  {
   "cell_type": "code",
   "execution_count": 2,
   "metadata": {},
   "outputs": [
    {
     "data": {
      "text/html": [
       "<div>\n",
       "<style scoped>\n",
       "    .dataframe tbody tr th:only-of-type {\n",
       "        vertical-align: middle;\n",
       "    }\n",
       "\n",
       "    .dataframe tbody tr th {\n",
       "        vertical-align: top;\n",
       "    }\n",
       "\n",
       "    .dataframe thead th {\n",
       "        text-align: right;\n",
       "    }\n",
       "</style>\n",
       "<table border=\"1\" class=\"dataframe\">\n",
       "  <thead>\n",
       "    <tr style=\"text-align: right;\">\n",
       "      <th></th>\n",
       "      <th>Date</th>\n",
       "      <th>House_Price_Index(S&amp;P/Case-Shiller)</th>\n",
       "      <th>Mortgage_Rate (30 yers)</th>\n",
       "      <th>Personal_Income</th>\n",
       "      <th>Resident_Population</th>\n",
       "      <th>Unemployment_Rate</th>\n",
       "      <th>GDP</th>\n",
       "      <th>Crime_Rate</th>\n",
       "      <th>Percent_With_Mortgage_Debt</th>\n",
       "      <th>Median_Debt</th>\n",
       "      <th>Percent_With_Severely_Delinquent_Debt</th>\n",
       "      <th>New_Structures</th>\n",
       "      <th>Economic_Conditions_Index</th>\n",
       "      <th>CPI less shelter</th>\n",
       "    </tr>\n",
       "  </thead>\n",
       "  <tbody>\n",
       "    <tr>\n",
       "      <th>0</th>\n",
       "      <td>3/1/2005</td>\n",
       "      <td>193.187111</td>\n",
       "      <td>5.93</td>\n",
       "      <td>46445.0</td>\n",
       "      <td>18798.1140</td>\n",
       "      <td>4.8</td>\n",
       "      <td>1096833.984</td>\n",
       "      <td>687.39410</td>\n",
       "      <td>32.90%</td>\n",
       "      <td>214701.0</td>\n",
       "      <td>0.90%</td>\n",
       "      <td>5852.065587</td>\n",
       "      <td>2.39</td>\n",
       "      <td>186.9</td>\n",
       "    </tr>\n",
       "    <tr>\n",
       "      <th>1</th>\n",
       "      <td>4/1/2005</td>\n",
       "      <td>195.162335</td>\n",
       "      <td>5.86</td>\n",
       "      <td>46844.7</td>\n",
       "      <td>18800.8659</td>\n",
       "      <td>4.8</td>\n",
       "      <td>1102432.129</td>\n",
       "      <td>685.96012</td>\n",
       "      <td>32.90%</td>\n",
       "      <td>215126.0</td>\n",
       "      <td>0.87%</td>\n",
       "      <td>4700.094832</td>\n",
       "      <td>2.74</td>\n",
       "      <td>187.9</td>\n",
       "    </tr>\n",
       "    <tr>\n",
       "      <th>2</th>\n",
       "      <td>5/1/2005</td>\n",
       "      <td>196.732454</td>\n",
       "      <td>5.72</td>\n",
       "      <td>47244.4</td>\n",
       "      <td>18803.6178</td>\n",
       "      <td>4.7</td>\n",
       "      <td>1108030.274</td>\n",
       "      <td>684.52614</td>\n",
       "      <td>32.90%</td>\n",
       "      <td>215551.0</td>\n",
       "      <td>0.83%</td>\n",
       "      <td>4978.336136</td>\n",
       "      <td>2.65</td>\n",
       "      <td>188.4</td>\n",
       "    </tr>\n",
       "    <tr>\n",
       "      <th>3</th>\n",
       "      <td>6/1/2005</td>\n",
       "      <td>198.197612</td>\n",
       "      <td>5.58</td>\n",
       "      <td>47644.1</td>\n",
       "      <td>18806.3697</td>\n",
       "      <td>4.8</td>\n",
       "      <td>1113628.419</td>\n",
       "      <td>683.09216</td>\n",
       "      <td>32.90%</td>\n",
       "      <td>215976.0</td>\n",
       "      <td>0.80%</td>\n",
       "      <td>4541.492838</td>\n",
       "      <td>2.49</td>\n",
       "      <td>187.6</td>\n",
       "    </tr>\n",
       "    <tr>\n",
       "      <th>4</th>\n",
       "      <td>7/1/2005</td>\n",
       "      <td>199.811814</td>\n",
       "      <td>5.70</td>\n",
       "      <td>48043.8</td>\n",
       "      <td>18809.1216</td>\n",
       "      <td>4.8</td>\n",
       "      <td>1119226.564</td>\n",
       "      <td>681.65818</td>\n",
       "      <td>32.83%</td>\n",
       "      <td>216901.0</td>\n",
       "      <td>0.83%</td>\n",
       "      <td>4545.705558</td>\n",
       "      <td>2.50</td>\n",
       "      <td>189.2</td>\n",
       "    </tr>\n",
       "    <tr>\n",
       "      <th>5</th>\n",
       "      <td>8/1/2005</td>\n",
       "      <td>201.500557</td>\n",
       "      <td>5.82</td>\n",
       "      <td>48443.5</td>\n",
       "      <td>18811.8735</td>\n",
       "      <td>4.9</td>\n",
       "      <td>1124824.709</td>\n",
       "      <td>680.22420</td>\n",
       "      <td>32.77%</td>\n",
       "      <td>217826.0</td>\n",
       "      <td>0.87%</td>\n",
       "      <td>5644.986814</td>\n",
       "      <td>2.24</td>\n",
       "      <td>191.3</td>\n",
       "    </tr>\n",
       "    <tr>\n",
       "      <th>6</th>\n",
       "      <td>9/1/2005</td>\n",
       "      <td>204.075072</td>\n",
       "      <td>5.77</td>\n",
       "      <td>48843.2</td>\n",
       "      <td>18814.6254</td>\n",
       "      <td>5.0</td>\n",
       "      <td>1130422.853</td>\n",
       "      <td>678.79022</td>\n",
       "      <td>32.70%</td>\n",
       "      <td>218751.0</td>\n",
       "      <td>0.90%</td>\n",
       "      <td>4939.945161</td>\n",
       "      <td>1.93</td>\n",
       "      <td>195.5</td>\n",
       "    </tr>\n",
       "    <tr>\n",
       "      <th>7</th>\n",
       "      <td>10/1/2005</td>\n",
       "      <td>206.680701</td>\n",
       "      <td>6.07</td>\n",
       "      <td>49242.9</td>\n",
       "      <td>18817.3773</td>\n",
       "      <td>5.0</td>\n",
       "      <td>1136020.998</td>\n",
       "      <td>677.35624</td>\n",
       "      <td>32.63%</td>\n",
       "      <td>219900.0</td>\n",
       "      <td>0.90%</td>\n",
       "      <td>4275.704563</td>\n",
       "      <td>1.99</td>\n",
       "      <td>194.5</td>\n",
       "    </tr>\n",
       "    <tr>\n",
       "      <th>8</th>\n",
       "      <td>11/1/2005</td>\n",
       "      <td>209.323123</td>\n",
       "      <td>6.33</td>\n",
       "      <td>49642.6</td>\n",
       "      <td>18820.1292</td>\n",
       "      <td>5.0</td>\n",
       "      <td>1141619.143</td>\n",
       "      <td>675.92226</td>\n",
       "      <td>32.57%</td>\n",
       "      <td>221049.0</td>\n",
       "      <td>0.90%</td>\n",
       "      <td>4456.121242</td>\n",
       "      <td>2.27</td>\n",
       "      <td>193.1</td>\n",
       "    </tr>\n",
       "    <tr>\n",
       "      <th>9</th>\n",
       "      <td>12/1/2005</td>\n",
       "      <td>212.054408</td>\n",
       "      <td>6.27</td>\n",
       "      <td>50042.3</td>\n",
       "      <td>18822.8811</td>\n",
       "      <td>4.9</td>\n",
       "      <td>1147217.288</td>\n",
       "      <td>674.48828</td>\n",
       "      <td>32.50%</td>\n",
       "      <td>222198.0</td>\n",
       "      <td>0.90%</td>\n",
       "      <td>4594.430120</td>\n",
       "      <td>2.47</td>\n",
       "      <td>191.8</td>\n",
       "    </tr>\n",
       "  </tbody>\n",
       "</table>\n",
       "</div>"
      ],
      "text/plain": [
       "        Date  House_Price_Index(S&P/Case-Shiller)  Mortgage_Rate (30 yers)  \\\n",
       "0   3/1/2005                           193.187111                     5.93   \n",
       "1   4/1/2005                           195.162335                     5.86   \n",
       "2   5/1/2005                           196.732454                     5.72   \n",
       "3   6/1/2005                           198.197612                     5.58   \n",
       "4   7/1/2005                           199.811814                     5.70   \n",
       "5   8/1/2005                           201.500557                     5.82   \n",
       "6   9/1/2005                           204.075072                     5.77   \n",
       "7  10/1/2005                           206.680701                     6.07   \n",
       "8  11/1/2005                           209.323123                     6.33   \n",
       "9  12/1/2005                           212.054408                     6.27   \n",
       "\n",
       "   Personal_Income  Resident_Population  Unemployment_Rate          GDP  \\\n",
       "0          46445.0           18798.1140                4.8  1096833.984   \n",
       "1          46844.7           18800.8659                4.8  1102432.129   \n",
       "2          47244.4           18803.6178                4.7  1108030.274   \n",
       "3          47644.1           18806.3697                4.8  1113628.419   \n",
       "4          48043.8           18809.1216                4.8  1119226.564   \n",
       "5          48443.5           18811.8735                4.9  1124824.709   \n",
       "6          48843.2           18814.6254                5.0  1130422.853   \n",
       "7          49242.9           18817.3773                5.0  1136020.998   \n",
       "8          49642.6           18820.1292                5.0  1141619.143   \n",
       "9          50042.3           18822.8811                4.9  1147217.288   \n",
       "\n",
       "   Crime_Rate Percent_With_Mortgage_Debt  Median_Debt  \\\n",
       "0   687.39410                     32.90%     214701.0   \n",
       "1   685.96012                     32.90%     215126.0   \n",
       "2   684.52614                     32.90%     215551.0   \n",
       "3   683.09216                     32.90%     215976.0   \n",
       "4   681.65818                     32.83%     216901.0   \n",
       "5   680.22420                     32.77%     217826.0   \n",
       "6   678.79022                     32.70%     218751.0   \n",
       "7   677.35624                     32.63%     219900.0   \n",
       "8   675.92226                     32.57%     221049.0   \n",
       "9   674.48828                     32.50%     222198.0   \n",
       "\n",
       "  Percent_With_Severely_Delinquent_Debt  New_Structures  \\\n",
       "0                                 0.90%     5852.065587   \n",
       "1                                 0.87%     4700.094832   \n",
       "2                                 0.83%     4978.336136   \n",
       "3                                 0.80%     4541.492838   \n",
       "4                                 0.83%     4545.705558   \n",
       "5                                 0.87%     5644.986814   \n",
       "6                                 0.90%     4939.945161   \n",
       "7                                 0.90%     4275.704563   \n",
       "8                                 0.90%     4456.121242   \n",
       "9                                 0.90%     4594.430120   \n",
       "\n",
       "   Economic_Conditions_Index  CPI less shelter  \n",
       "0                       2.39             186.9  \n",
       "1                       2.74             187.9  \n",
       "2                       2.65             188.4  \n",
       "3                       2.49             187.6  \n",
       "4                       2.50             189.2  \n",
       "5                       2.24             191.3  \n",
       "6                       1.93             195.5  \n",
       "7                       1.99             194.5  \n",
       "8                       2.27             193.1  \n",
       "9                       2.47             191.8  "
      ]
     },
     "execution_count": 2,
     "metadata": {},
     "output_type": "execute_result"
    }
   ],
   "source": [
    "\n",
    "raw_dataset = pd.read_csv('NY data summary Interpolated .csv',\n",
    "                      na_values = \"?\", comment='\\t',\n",
    "                      sep=\",\", skipinitialspace=True)\n",
    "\n",
    "features = raw_dataset.copy()\n",
    "\n",
    "features.head(10)"
   ]
  },
  {
   "cell_type": "code",
   "execution_count": 3,
   "metadata": {},
   "outputs": [
    {
     "ename": "TypeError",
     "evalue": "'float' object is not subscriptable",
     "output_type": "error",
     "traceback": [
      "\u001b[1;31m---------------------------------------------------------------------------\u001b[0m",
      "\u001b[1;31mTypeError\u001b[0m                                 Traceback (most recent call last)",
      "\u001b[1;32m<ipython-input-3-0af2fda6079e>\u001b[0m in \u001b[0;36m<module>\u001b[1;34m\u001b[0m\n\u001b[0;32m      2\u001b[0m \u001b[0mmdebt\u001b[0m \u001b[1;33m=\u001b[0m \u001b[1;33m[\u001b[0m\u001b[1;33m]\u001b[0m\u001b[1;33m\u001b[0m\u001b[1;33m\u001b[0m\u001b[0m\n\u001b[0;32m      3\u001b[0m \u001b[1;32mfor\u001b[0m \u001b[0mx\u001b[0m \u001b[1;32min\u001b[0m \u001b[0mmort_debt\u001b[0m\u001b[1;33m:\u001b[0m\u001b[1;33m\u001b[0m\u001b[1;33m\u001b[0m\u001b[0m\n\u001b[1;32m----> 4\u001b[1;33m   \u001b[0mmdebt\u001b[0m\u001b[1;33m.\u001b[0m\u001b[0mappend\u001b[0m\u001b[1;33m(\u001b[0m\u001b[0mfloat\u001b[0m\u001b[1;33m(\u001b[0m\u001b[0mx\u001b[0m\u001b[1;33m[\u001b[0m\u001b[1;33m:\u001b[0m\u001b[1;36m5\u001b[0m\u001b[1;33m]\u001b[0m\u001b[1;33m)\u001b[0m\u001b[1;33m)\u001b[0m\u001b[1;33m\u001b[0m\u001b[1;33m\u001b[0m\u001b[0m\n\u001b[0m\u001b[0;32m      5\u001b[0m \u001b[0mfeatures\u001b[0m \u001b[1;33m=\u001b[0m \u001b[0mfeatures\u001b[0m\u001b[1;33m.\u001b[0m\u001b[0mdrop\u001b[0m\u001b[1;33m(\u001b[0m\u001b[1;34m'Percent_With_Mortgage_Debt'\u001b[0m\u001b[1;33m,\u001b[0m\u001b[0maxis\u001b[0m\u001b[1;33m=\u001b[0m\u001b[1;36m1\u001b[0m\u001b[1;33m)\u001b[0m\u001b[1;33m\u001b[0m\u001b[1;33m\u001b[0m\u001b[0m\n\u001b[0;32m      6\u001b[0m \u001b[1;33m\u001b[0m\u001b[0m\n",
      "\u001b[1;31mTypeError\u001b[0m: 'float' object is not subscriptable"
     ]
    }
   ],
   "source": [
    "mort_debt = np.array(features['Percent_With_Mortgage_Debt'])\n",
    "mdebt = []\n",
    "for x in mort_debt:\n",
    "  mdebt.append(float(x[:5]))\n",
    "features = features.drop('Percent_With_Mortgage_Debt',axis=1)\n",
    "\n",
    "del_debt = np.array(features['Percent_With_Severely_Delinquent_Debt'])\n",
    "ddebt = []\n",
    "for x in del_debt:\n",
    "  ddebt.append(float(x[:4]))\n",
    "features = features.drop('Percent_With_Severely_Delinquent_Debt',axis=1)\n",
    "\n",
    "features['Percent_With_Mortgage_Debt'] = mdebt\n",
    "features['Percent_With_Severely_Delinquent_Debt'] = ddebt\n",
    "features.head()"
   ]
  },
  {
   "cell_type": "code",
   "execution_count": null,
   "metadata": {},
   "outputs": [],
   "source": [
    "y= features.pop(\"House_Price_Index(S&P/Case-Shiller)\")\n"
   ]
  },
  {
   "cell_type": "code",
   "execution_count": null,
   "metadata": {},
   "outputs": [],
   "source": [
    "X=features.drop('Date',axis=1)\n",
    "X"
   ]
  },
  {
   "cell_type": "code",
   "execution_count": null,
   "metadata": {},
   "outputs": [],
   "source": [
    "train_stats = X.describe()\n",
    "train_stats = train_stats.transpose()\n",
    "train_stats"
   ]
  },
  {
   "cell_type": "code",
   "execution_count": null,
   "metadata": {},
   "outputs": [],
   "source": [
    "def norm(x):\n",
    "  return (x - train_stats['mean']) / train_stats['std']\n",
    "X = norm(X)\n",
    "X"
   ]
  },
  {
   "cell_type": "code",
   "execution_count": null,
   "metadata": {},
   "outputs": [],
   "source": [
    "regressor = LinearRegression()\n",
    "regressor.fit(X, y)"
   ]
  },
  {
   "cell_type": "code",
   "execution_count": null,
   "metadata": {},
   "outputs": [],
   "source": [
    "y_pred = regressor.predict(X)"
   ]
  },
  {
   "cell_type": "code",
   "execution_count": null,
   "metadata": {},
   "outputs": [],
   "source": [
    "plt.scatter(X['Mortgage_Rate (30 yers)'], y, color = 'red')\n",
    "plt.plot(X['Mortgage_Rate (30 yers)'], regressor.predict(X), color = 'blue')\n",
    "\n",
    "plt.xlabel('Mortgage_Rate (30 yers)')\n",
    "plt.ylabel('House_Price_Index(S&P/Case-Shiller)')\n",
    "plt.show()"
   ]
  },
  {
   "cell_type": "code",
   "execution_count": null,
   "metadata": {},
   "outputs": [],
   "source": [
    "a = plt.axes(aspect='equal')\n",
    "plt.scatter(y, y_pred)\n",
    "plt.xlabel('True Values [House_Price_Index]')\n",
    "plt.ylabel('Predictions [House_Price_Index]')\n",
    "lims = [140, 220]\n",
    "plt.xlim(lims)\n",
    "plt.ylim(lims)\n",
    "_ = plt.plot(lims, lims)\n",
    "\n",
    "errors = abs(y_pred - y)\n",
    "\n",
    "\n",
    "print('Mean Absolute Error:', round(np.mean(errors), 2))\n",
    "\n",
    "mape = np.mean(100 * (errors / y))\n",
    "accuracy = 100 - mape\n",
    "print('Accuracy:', round(accuracy, 2), '%.')"
   ]
  },
  {
   "cell_type": "code",
   "execution_count": null,
   "metadata": {},
   "outputs": [],
   "source": [
    "regressor.get_params()"
   ]
  },
  {
   "cell_type": "code",
   "execution_count": null,
   "metadata": {},
   "outputs": [],
   "source": [
    "regressor.score(X, y, sample_weight=None) # Return the coefficient of determination r square of the prediction."
   ]
  },
  {
   "cell_type": "code",
   "execution_count": null,
   "metadata": {},
   "outputs": [],
   "source": [
    "coef=pd.DataFrame(regressor.coef_)\n",
    "coef#get the coefficient for each term"
   ]
  },
  {
   "cell_type": "code",
   "execution_count": null,
   "metadata": {},
   "outputs": [],
   "source": [
    "coef.to_csv('coef-result.csv',index = False, header=True)"
   ]
  },
  {
   "cell_type": "code",
   "execution_count": null,
   "metadata": {},
   "outputs": [],
   "source": [
    "print(y_pred)"
   ]
  },
  {
   "cell_type": "code",
   "execution_count": null,
   "metadata": {},
   "outputs": [],
   "source": [
    "Newy=pd.DataFrame(y_pred)\n",
    "Newy.to_csv('y-pred.csv',index = False, header=True)\n",
    "X.to_csv('X.csv',index = False, header=True)\n",
    "Newy"
   ]
  },
  {
   "cell_type": "code",
   "execution_count": null,
   "metadata": {},
   "outputs": [],
   "source": [
    "X_transpose=X.transpose()"
   ]
  },
  {
   "cell_type": "code",
   "execution_count": null,
   "metadata": {},
   "outputs": [],
   "source": [
    "X_transpose"
   ]
  },
  {
   "cell_type": "code",
   "execution_count": null,
   "metadata": {},
   "outputs": [],
   "source": [
    "X_transpose=X_transpose.reset_index()"
   ]
  },
  {
   "cell_type": "code",
   "execution_count": null,
   "metadata": {},
   "outputs": [],
   "source": [
    "X_transpose"
   ]
  },
  {
   "cell_type": "code",
   "execution_count": null,
   "metadata": {},
   "outputs": [],
   "source": [
    "X_transpose_index=X_transpose[['index']]"
   ]
  },
  {
   "cell_type": "code",
   "execution_count": null,
   "metadata": {},
   "outputs": [],
   "source": [
    "X_transpose_index"
   ]
  },
  {
   "cell_type": "code",
   "execution_count": null,
   "metadata": {},
   "outputs": [],
   "source": [
    "X_transpose_index=X_transpose_index.join(coef)"
   ]
  },
  {
   "cell_type": "code",
   "execution_count": null,
   "metadata": {},
   "outputs": [],
   "source": []
  },
  {
   "cell_type": "code",
   "execution_count": null,
   "metadata": {},
   "outputs": [],
   "source": [
    "X_transpose_index"
   ]
  },
  {
   "cell_type": "code",
   "execution_count": null,
   "metadata": {},
   "outputs": [],
   "source": [
    "plt.bar(X_transpose_index['index'],X_transpose_index[0])\n",
    "plt.xticks(rotation=270)"
   ]
  },
  {
   "cell_type": "code",
   "execution_count": null,
   "metadata": {},
   "outputs": [],
   "source": [
    "raw_dataset_2 = pd.read_csv('2018 prediction.csv',\n",
    "                      na_values = \"?\", comment='\\t',\n",
    "                      sep=\",\", skipinitialspace=True)\n",
    "\n",
    "features_2 = raw_dataset_2.copy()\n",
    "\n",
    "features_2.head(14)"
   ]
  },
  {
   "cell_type": "code",
   "execution_count": null,
   "metadata": {
    "scrolled": true
   },
   "outputs": [],
   "source": [
    "mort_debt_2 = np.array(features_2['Percent_With_Mortgage_Debt'])\n",
    "mdebt_2 = []\n",
    "for x in mort_debt_2:\n",
    "  mdebt_2.append(float(x[:5]))\n",
    "features_2 = features_2.drop('Percent_With_Mortgage_Debt',axis=1)\n",
    "\n",
    "del_debt_2 = np.array(features_2['Percent_With_Severely_Delinquent_Debt'])\n",
    "ddebt_2 = []\n",
    "for x in del_debt_2:\n",
    "  ddebt_2.append(float(x[:4]))\n",
    "features_2 = features_2.drop('Percent_With_Severely_Delinquent_Debt',axis=1)\n",
    "\n",
    "features_2['Percent_With_Mortgage_Debt'] = mdebt_2\n",
    "features_2['Percent_With_Severely_Delinquent_Debt'] = ddebt_2\n",
    "features_2.head()"
   ]
  },
  {
   "cell_type": "code",
   "execution_count": null,
   "metadata": {
    "scrolled": true
   },
   "outputs": [],
   "source": [
    "y_2= features_2.pop(\"House_Price_Index(S&P/Case-Shiller)\")\n",
    "X_2=features_2.drop('Date',axis=1)\n",
    "X_2"
   ]
  },
  {
   "cell_type": "code",
   "execution_count": null,
   "metadata": {},
   "outputs": [],
   "source": [
    "train_stats_2 = X_2.describe()\n",
    "train_stats_2 = train_stats_2.transpose()\n",
    "train_stats_2"
   ]
  },
  {
   "cell_type": "code",
   "execution_count": null,
   "metadata": {},
   "outputs": [],
   "source": [
    "def norm(x):\n",
    "  return (x - train_stats['mean']) / train_stats['std']\n",
    "X_2 = norm(X_2)\n",
    "X_2"
   ]
  },
  {
   "cell_type": "code",
   "execution_count": null,
   "metadata": {},
   "outputs": [],
   "source": [
    "y_pred_2 = regressor.predict(X_2)\n"
   ]
  },
  {
   "cell_type": "code",
   "execution_count": null,
   "metadata": {},
   "outputs": [],
   "source": [
    "print(y_pred_2)"
   ]
  },
  {
   "cell_type": "code",
   "execution_count": null,
   "metadata": {},
   "outputs": [],
   "source": [
    "Newy_2=pd.DataFrame(y_pred_2)\n",
    "Newy_2.to_csv('y-verify.csv',index = False, header=True)\n",
    "Newy_2"
   ]
  },
  {
   "cell_type": "code",
   "execution_count": null,
   "metadata": {},
   "outputs": [],
   "source": []
  }
 ],
 "metadata": {
  "kernelspec": {
   "display_name": "Python 3",
   "language": "python",
   "name": "python3"
  },
  "language_info": {
   "codemirror_mode": {
    "name": "ipython",
    "version": 3
   },
   "file_extension": ".py",
   "mimetype": "text/x-python",
   "name": "python",
   "nbconvert_exporter": "python",
   "pygments_lexer": "ipython3",
   "version": "3.7.9"
  }
 },
 "nbformat": 4,
 "nbformat_minor": 2
}
